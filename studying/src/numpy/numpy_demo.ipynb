{
 "cells": [
  {
   "cell_type": "markdown",
   "metadata": {
    "toc": true
   },
   "source": [
    "<h1>Table of Contents<span class=\"tocSkip\"></span></h1>\n",
    "<div class=\"toc\"><ul class=\"toc-item\"><li><span><a href=\"#列表\" data-toc-modified-id=\"列表-1\"><span class=\"toc-item-num\">1&nbsp;&nbsp;</span>列表</a></span></li><li><span><a href=\"#数组的创建★\" data-toc-modified-id=\"数组的创建★-2\"><span class=\"toc-item-num\">2&nbsp;&nbsp;</span>数组的创建★</a></span></li><li><span><a href=\"#查看数组结构\" data-toc-modified-id=\"查看数组结构-3\"><span class=\"toc-item-num\">3&nbsp;&nbsp;</span>查看数组结构</a></span></li><li><span><a href=\"#查看数组类型\" data-toc-modified-id=\"查看数组类型-4\"><span class=\"toc-item-num\">4&nbsp;&nbsp;</span>查看数组类型</a></span></li><li><span><a href=\"#查看数组的大小\" data-toc-modified-id=\"查看数组的大小-5\"><span class=\"toc-item-num\">5&nbsp;&nbsp;</span>查看数组的大小</a></span></li><li><span><a href=\"#更改数组的结构\" data-toc-modified-id=\"更改数组的结构-6\"><span class=\"toc-item-num\">6&nbsp;&nbsp;</span>更改数组的结构</a></span></li><li><span><a href=\"#arange函数\" data-toc-modified-id=\"arange函数-7\"><span class=\"toc-item-num\">7&nbsp;&nbsp;</span>arange函数</a></span></li><li><span><a href=\"#linspace函数——返回等差数组\" data-toc-modified-id=\"linspace函数——返回等差数组-8\"><span class=\"toc-item-num\">8&nbsp;&nbsp;</span>linspace函数——返回等差数组</a></span></li><li><span><a href=\"#logspace函数——返回等比数列\" data-toc-modified-id=\"logspace函数——返回等比数列-9\"><span class=\"toc-item-num\">9&nbsp;&nbsp;</span>logspace函数——返回等比数列</a></span></li><li><span><a href=\"#创建特殊的数组\" data-toc-modified-id=\"创建特殊的数组-10\"><span class=\"toc-item-num\">10&nbsp;&nbsp;</span>创建特殊的数组</a></span></li><li><span><a href=\"#生成随机数\" data-toc-modified-id=\"生成随机数-11\"><span class=\"toc-item-num\">11&nbsp;&nbsp;</span>生成随机数</a></span></li><li><span><a href=\"#一维数组的索引和切片\" data-toc-modified-id=\"一维数组的索引和切片-12\"><span class=\"toc-item-num\">12&nbsp;&nbsp;</span>一维数组的索引和切片</a></span></li><li><span><a href=\"#多维数组的索引和切片★\" data-toc-modified-id=\"多维数组的索引和切片★-13\"><span class=\"toc-item-num\">13&nbsp;&nbsp;</span>多维数组的索引和切片★</a></span></li><li><span><a href=\"#改变数组的形状\" data-toc-modified-id=\"改变数组的形状-14\"><span class=\"toc-item-num\">14&nbsp;&nbsp;</span>改变数组的形状</a></span></li><li><span><a href=\"#数组的拼接\" data-toc-modified-id=\"数组的拼接-15\"><span class=\"toc-item-num\">15&nbsp;&nbsp;</span>数组的拼接</a></span></li><li><span><a href=\"#np.any-、np.all\" data-toc-modified-id=\"np.any-、np.all-16\"><span class=\"toc-item-num\">16&nbsp;&nbsp;</span>np.any 、np.all</a></span></li><li><span><a href=\"#广播★\" data-toc-modified-id=\"广播★-17\"><span class=\"toc-item-num\">17&nbsp;&nbsp;</span>广播★</a></span></li><li><span><a href=\"#排序\" data-toc-modified-id=\"排序-18\"><span class=\"toc-item-num\">18&nbsp;&nbsp;</span>排序</a></span></li><li><span><a href=\"#np.multiply（）、np.dot（）和星号（*）三种乘法运算的区别★\" data-toc-modified-id=\"np.multiply（）、np.dot（）和星号（*）三种乘法运算的区别★-19\"><span class=\"toc-item-num\">19&nbsp;&nbsp;</span>np.multiply（）、np.dot（）和星号（*）三种乘法运算的区别★</a></span></li><li><span><a href=\"#几个重要的函数\" data-toc-modified-id=\"几个重要的函数-20\"><span class=\"toc-item-num\">20&nbsp;&nbsp;</span>几个重要的函数</a></span></li></ul></div>"
   ]
  },
  {
   "cell_type": "code",
   "execution_count": 1,
   "metadata": {},
   "outputs": [],
   "source": [
    "import numpy as np"
   ]
  },
  {
   "cell_type": "markdown",
   "metadata": {},
   "source": [
    "## 定义list"
   ]
  },
  {
   "cell_type": "code",
   "execution_count": 2,
   "metadata": {
    "scrolled": true,
    "tags": []
   },
   "outputs": [
    {
     "output_type": "stream",
     "name": "stdout",
     "text": "[1, 'a', 1.34, True]\n"
    }
   ],
   "source": [
    "li = [1, 'a', 1.34, True]\n",
    "print(li)"
   ]
  },
  {
   "cell_type": "markdown",
   "metadata": {},
   "source": [
    "## array定义"
   ]
  },
  {
   "cell_type": "code",
   "execution_count": 3,
   "metadata": {
    "tags": []
   },
   "outputs": [
    {
     "output_type": "stream",
     "name": "stdout",
     "text": "[1. 2. 3. 4.]\n['1' 'a' '3' '4']\n[[1 2 3 4]\n [5 6 7 8]\n [9 1 2 3]]\n[[[1 2 3 4]\n  [5 6 7 8]\n  [9 1 2 3]]\n\n [[1 2 3 4]\n  [5 6 7 8]\n  [9 1 2 3]]]\n"
    }
   ],
   "source": [
    "#将python的list转成数组\n",
    "\n",
    "arr1 = np.array([1., 2, 3, 4])\n",
    "# arr1 = np.array(range(1, 5))\n",
    "print(arr1)\n",
    "\n",
    "arr2 = np.array([1, \"a\", 3, 4])\n",
    "print(arr2)\n",
    "\n",
    "arr3 = np.array([[1, 2, 3, 4], [5, 6, 7, 8], [9, 1, 2, 3]])\n",
    "print(arr3)\n",
    "\n",
    "#多维list转成多维数组\n",
    "arr4 = np.array([[[1, 2, 3, 4], [5, 6, 7, 8], [9, 1, 2, 3]],\n",
    "                 [[1, 2, 3, 4], [5, 6, 7, 8], [9, 1, 2, 3]]])\n",
    "print(arr4)\n"
   ]
  },
  {
   "cell_type": "markdown",
   "metadata": {},
   "source": [
    "* 思考： python的list 和  numpy 的array  有什么区别？\n",
    "\n",
    "1、list 数据结构，有相关的操作函数； numpy的array的话，更像是纯粹意义上的数组（可以是多维的）"
   ]
  },
  {
   "cell_type": "markdown",
   "metadata": {},
   "source": [
    "## 查看数组结构"
   ]
  },
  {
   "cell_type": "code",
   "execution_count": 4,
   "metadata": {
    "tags": []
   },
   "outputs": [
    {
     "output_type": "stream",
     "name": "stdout",
     "text": "(3, 4)\n(2, 3, 4)\n"
    }
   ],
   "source": [
    "print(arr3.shape)\n",
    "print(arr4.shape)"
   ]
  },
  {
   "cell_type": "markdown",
   "metadata": {},
   "source": [
    "## 查看数组类型"
   ]
  },
  {
   "cell_type": "code",
   "execution_count": 5,
   "metadata": {
    "tags": []
   },
   "outputs": [
    {
     "output_type": "stream",
     "name": "stdout",
     "text": "float64\n<U21\nint64\n"
    }
   ],
   "source": [
    "print(arr1.dtype)\n",
    "print(arr2.dtype)  # 字节序，< 表示小端，> 表示大端，| 表示平台的字节序；11位的Unicode类型\n",
    "print(arr4.dtype)"
   ]
  },
  {
   "cell_type": "markdown",
   "metadata": {},
   "source": [
    "## 查看数组的大小"
   ]
  },
  {
   "cell_type": "code",
   "execution_count": 6,
   "metadata": {
    "scrolled": false,
    "tags": []
   },
   "outputs": [
    {
     "output_type": "stream",
     "name": "stdout",
     "text": "24\n"
    }
   ],
   "source": [
    "print(arr4.size)"
   ]
  },
  {
   "cell_type": "markdown",
   "metadata": {},
   "source": [
    "## 更改数组的结构"
   ]
  },
  {
   "cell_type": "code",
   "execution_count": 7,
   "metadata": {
    "scrolled": true,
    "tags": []
   },
   "outputs": [
    {
     "output_type": "stream",
     "name": "stdout",
     "text": "[[1 2 3 4]\n [5 6 7 8]\n [9 1 2 3]]\n[[1 2 3]\n [4 5 6]\n [7 8 9]\n [1 2 3]]\n"
    }
   ],
   "source": [
    "print(arr3)\n",
    "arr3.shape = (4, 3)\n",
    "print(arr3)"
   ]
  },
  {
   "cell_type": "code",
   "execution_count": 34,
   "metadata": {
    "scrolled": true,
    "tags": []
   },
   "outputs": [
    {
     "output_type": "stream",
     "name": "stdout",
     "text": "[[100   8]\n [  4   2]\n [  7   3]\n [  1   6]\n [  2   9]\n [  5   3]]\n[[100   2   3]\n [  4   5   6]\n [  7   8   9]\n [  1   2   3]]\n[[100   2   3]\n [  4   5   6]\n [  7   8   9]\n [  1   2   3]]\n[[100   2]\n [  3   4]\n [  5   6]\n [  7   8]\n [  9   1]\n [  2   3]]\n"
    }
   ],
   "source": [
    "print(arr3.reshape((6, 2), order='F')) # order ='F' 按照fortan格式重新排列，也就是列优先顺序,变换后不共享内存'C'行优先，变换后共享内存；\n",
    "\n",
    "arr33 = arr3.reshape((6,2), order='C')\n",
    "print(arr3)\n",
    "arr3[0][0] = 100\n",
    "print(arr3)\n",
    "print(arr33)\n"
   ]
  },
  {
   "cell_type": "markdown",
   "metadata": {},
   "source": [
    "## arange函数"
   ]
  },
  {
   "cell_type": "code",
   "execution_count": 9,
   "metadata": {
    "tags": []
   },
   "outputs": [
    {
     "output_type": "stream",
     "name": "stdout",
     "text": "[0, 1, 2, 3, 4]\n[0, 1, 2, 3, 4]\n[0 1 2 3 4]\n[1.  1.5 2.  2.5 3.  3.5 4.  4.5 5.  5.5 6.  6.5 7.  7.5 8.  8.5 9.  9.5]\n"
    }
   ],
   "source": [
    "li1 = [0, 1, 2, 3, 4]\n",
    "print(li1)\n",
    "li2 = list(range(5)) #rang(stop) 产出[0,stop)之间的整数,步长1 只能是整数; 返回\n",
    "print(li2)\n",
    "\n",
    "aran1 = np.arange(5)\n",
    "print(aran1)\n",
    "\n",
    "aran2 = np.arange(1, 10, 0.5) #步长可以为小数\n",
    "print(aran2)"
   ]
  },
  {
   "cell_type": "markdown",
   "metadata": {},
   "source": [
    "## linspace函数——返回等差数组"
   ]
  },
  {
   "cell_type": "code",
   "execution_count": 10,
   "metadata": {
    "tags": []
   },
   "outputs": [
    {
     "output_type": "stream",
     "name": "stdout",
     "text": "[ 1.   1.3  1.6  1.9  2.2  2.5  2.8  3.1  3.4  3.7  4.   4.3  4.6  4.9\n  5.2  5.5  5.8  6.1  6.4  6.7  7.   7.3  7.6  7.9  8.2  8.5  8.8  9.1\n  9.4  9.7 10. ]\n31\n"
    }
   ],
   "source": [
    "arr5 = np.linspace(1, 10, 31) #产出1~10之间的数，产出31个值，公差d = （10-1)/(31-1)\n",
    "print(arr5)\n",
    "print(arr5.size)"
   ]
  },
  {
   "cell_type": "markdown",
   "metadata": {},
   "source": [
    "## logspace函数——返回等比数列"
   ]
  },
  {
   "cell_type": "code",
   "execution_count": 11,
   "metadata": {
    "tags": []
   },
   "outputs": [
    {
     "output_type": "stream",
     "name": "stdout",
     "text": "[1.e+01 1.e+02 1.e+03 1.e+04 1.e+05]\n"
    }
   ],
   "source": [
    "arr6 = np.logspace(1, 5, 5) # 生成1~5之间的数，总共5个，实际是等差数列；之后计算以base=10的指数\n",
    "print(arr6)"
   ]
  },
  {
   "cell_type": "markdown",
   "metadata": {},
   "source": [
    "## 创建特殊的数组"
   ]
  },
  {
   "cell_type": "code",
   "execution_count": 13,
   "metadata": {
    "scrolled": true,
    "tags": []
   },
   "outputs": [
    {
     "output_type": "stream",
     "name": "stdout",
     "text": "[[0. 0. 0.]\n [0. 0. 0.]]\n[[1. 0. 0. 0.]\n [0. 1. 0. 0.]\n [0. 0. 1. 0.]\n [0. 0. 0. 1.]]\n[[2 0 0 0]\n [0 3 0 0]\n [0 0 4 0]\n [0 0 0 6]]\n[[1. 1. 1. 1.]\n [1. 1. 1. 1.]\n [1. 1. 1. 1.]]\n"
    }
   ],
   "source": [
    "arr7 = np.zeros((2, 3))\n",
    "print(arr7)\n",
    "\n",
    "arr8 = np.eye(4) ##斜对角线为1，单位矩阵\n",
    "print(arr8)\n",
    "\n",
    "arr9 = np.diag((2, 3, 4, 6))\n",
    "print(arr9)\n",
    "\n",
    "arr10 = np.ones((3, 4))\n",
    "print(arr10)"
   ]
  },
  {
   "cell_type": "markdown",
   "metadata": {},
   "source": [
    "## 生成随机数"
   ]
  },
  {
   "cell_type": "code",
   "execution_count": 14,
   "metadata": {
    "tags": []
   },
   "outputs": [
    {
     "output_type": "stream",
     "name": "stdout",
     "text": "0.15026308273653943\n3\nc\n[0.60678943 0.45315675 0.8996228  0.11316797 0.16322611 0.3335705\n 0.45953321 0.44851891 0.09492478 0.7773492 ]\n[[[0.49568125 0.54270452 0.99298567 0.96478993]\n  [0.5851713  0.46713199 0.77041779 0.7152846 ]\n  [0.38202444 0.42881347 0.05603075 0.97346157]]\n\n [[0.94396458 0.7111687  0.01499701 0.54733916]\n  [0.49282625 0.39252959 0.67939793 0.99739987]\n  [0.97320911 0.51699703 0.04627957 0.13486135]]]\n[[-0.30186922 -0.4497241  -0.07123355]\n [ 1.84620726 -0.56348851 -2.12896567]]\n[[2 4 3 4]\n [4 2 2 4]\n [3 3 4 3]]\n['a' 'b']\n"
    }
   ],
   "source": [
    "import random\n",
    "\n",
    "print(random.random())  # 随机生成0-1之间的一个数\n",
    "print(random.randint(2, 4))  # 随机生成2-4(含)之间的一个数\n",
    "print(random.choice([\"a\", \"b\", \"c\"]))\n",
    "\n",
    "print(np.random.random(10)) #生成一纬(这里是10个)0~1之间的数字\n",
    "print(np.random.rand(2, 3, 4)) #生成2*3*4纬的0-1之间的数组\n",
    "print(np.random.randn(2, 3))\n",
    "print(np.random.randint(2, 5, size=(3, 4)))  # 不包含上限\n",
    "print(np.random.choice([\"a\", \"b\", \"c\"], 2, replace=False))"
   ]
  },
  {
   "cell_type": "markdown",
   "metadata": {},
   "source": [
    "## 一维数组的索引和切片"
   ]
  },
  {
   "cell_type": "code",
   "execution_count": 15,
   "metadata": {
    "tags": []
   },
   "outputs": [
    {
     "output_type": "stream",
     "name": "stdout",
     "text": "[0 1 2 3 4 5 6 7 8 9]\n4\n[4 5 6 7]\n<class 'numpy.ndarray'>\n9\n[9 7 5 3 1]\n[0 1 2 3 4 5 6 7 8 9]\n"
    }
   ],
   "source": [
    "a1 = np.arange(10)\n",
    "print(a1)\n",
    "\n",
    "print(a1[4])\n",
    "print(a1[4:8])\n",
    "print(type(a1[4:8]))\n",
    "\n",
    "print(a1[-1])\n",
    "print(a1[::-2])\n",
    "print(a1[:])"
   ]
  },
  {
   "cell_type": "markdown",
   "metadata": {},
   "source": [
    "## 多维数组的索引和切片★"
   ]
  },
  {
   "cell_type": "code",
   "execution_count": 16,
   "metadata": {
    "tags": []
   },
   "outputs": [
    {
     "output_type": "stream",
     "name": "stdout",
     "text": "2\n6\n[5 6]\n[5 6]\n[[ 6  7]\n [ 9 10]]\n[[ 5  6  7  8]\n [ 8  9 10 11]]\n[[ 6  7]\n [ 9 10]]\n"
    }
   ],
   "source": [
    "arr = np.array([[1, 2, 3, 4, 5],\n",
    "                [4, 5, 6, 7, 8],\n",
    "                [7, 8, 9, 10, 11]])\n",
    "# 索引的两种方式\n",
    "print(arr[0][1])\n",
    "\n",
    "print(arr[1, 2])\n",
    "\n",
    "# 切片\n",
    "print(arr[1][1:3])\n",
    "print(arr[1, 1:3])\n",
    "\n",
    "print(arr[1:3, 2:4])\n",
    "print(arr[1:, 1:])\n",
    "print(arr[1:3, 2:4])"
   ]
  },
  {
   "cell_type": "markdown",
   "metadata": {},
   "source": [
    "## 改变数组的形状"
   ]
  },
  {
   "cell_type": "code",
   "execution_count": 17,
   "metadata": {
    "scrolled": false,
    "tags": []
   },
   "outputs": [
    {
     "output_type": "stream",
     "name": "stdout",
     "text": "[ 0  1  2  3  4  5  6  7  8  9 10 11]\n[[ 0  1  2  3]\n [ 4  5  6  7]\n [ 8  9 10 11]]\n2\n"
    }
   ],
   "source": [
    "a2 = np.arange(12)\n",
    "print(a2)\n",
    "\n",
    "a3 = a2.reshape((3, 4))\n",
    "print(a3)\n",
    "print(a3.ndim)"
   ]
  },
  {
   "cell_type": "code",
   "execution_count": 18,
   "metadata": {
    "scrolled": true,
    "tags": []
   },
   "outputs": [
    {
     "output_type": "stream",
     "name": "stdout",
     "text": "[ 0  1  2  3  4  5  6  7  8  9 10 11]\n[ 0  1  2  3  4  5  6  7  8  9 10 11]\n[ 0  4  8  1  5  9  2  6 10  3  7 11]\n"
    }
   ],
   "source": [
    "print(a3.ravel())\n",
    "print(a3.flatten(\"C\"))\n",
    "print(a3.flatten(\"F\"))"
   ]
  },
  {
   "cell_type": "markdown",
   "metadata": {},
   "source": [
    "## 数组的拼接"
   ]
  },
  {
   "cell_type": "code",
   "execution_count": 19,
   "metadata": {
    "scrolled": true,
    "tags": []
   },
   "outputs": [
    {
     "output_type": "stream",
     "name": "stdout",
     "text": "[[1 2]\n [3 4]\n [5 6]]\n[[11 12]\n [13 14]\n [15 16]]\n[[ 1  2 11 12]\n [ 3  4 13 14]\n [ 5  6 15 16]]\n[[ 1  2]\n [ 3  4]\n [ 5  6]\n [11 12]\n [13 14]\n [15 16]]\n[[ 1  2 11 12]\n [ 3  4 13 14]\n [ 5  6 15 16]]\n[[ 1  2]\n [ 3  4]\n [ 5  6]\n [11 12]\n [13 14]\n [15 16]]\n"
    }
   ],
   "source": [
    "arr1 = np.arange(1, 7).reshape((3, 2))\n",
    "arr2 = np.arange(11, 17).reshape((3, 2))\n",
    "print(arr1)\n",
    "print(arr2)\n",
    "\n",
    "print(np.hstack((arr1, arr2)))\n",
    "print(np.vstack((arr1, arr2)))\n",
    "\n",
    "print(np.concatenate((arr1, arr2), axis=1))\n",
    "print(np.concatenate((arr1, arr2), axis=0))"
   ]
  },
  {
   "cell_type": "code",
   "execution_count": 20,
   "metadata": {
    "scrolled": true,
    "tags": []
   },
   "outputs": [
    {
     "output_type": "stream",
     "name": "stdout",
     "text": "[[0 1 2 3]\n [4 5 6 7]]\n[array([[0, 1],\n       [4, 5]]), array([[2, 3],\n       [6, 7]])]\n[array([[0, 1, 2, 3]]), array([[4, 5, 6, 7]])]\n[array([[0, 1],\n       [4, 5]]), array([[2, 3],\n       [6, 7]])]\n[array([[0, 1, 2, 3]]), array([[4, 5, 6, 7]])]\n"
    }
   ],
   "source": [
    "arr11 = np.arange(8).reshape((2, 4))\n",
    "print(arr11)\n",
    "\n",
    "print(np.hsplit(arr11, 2))\n",
    "print(np.vsplit(arr11, 2))\n",
    "\n",
    "print(np.split(arr11, 2, axis=1))\n",
    "print(np.split(arr11, 2, axis=0))"
   ]
  },
  {
   "cell_type": "markdown",
   "metadata": {},
   "source": [
    "## np.any 、np.all"
   ]
  },
  {
   "cell_type": "code",
   "execution_count": 21,
   "metadata": {
    "scrolled": true,
    "tags": []
   },
   "outputs": [
    {
     "output_type": "stream",
     "name": "stdout",
     "text": "True\nFalse\nFalse\nTrue\n"
    }
   ],
   "source": [
    "arr12 = np.array([True, True, False])\n",
    "arr13 = np.array([True, True, True])\n",
    "arr14 = np.array([False, False, False])\n",
    "\n",
    "print(np.any(arr12))\n",
    "print(np.any(arr14))\n",
    "\n",
    "print(np.all(arr12))\n",
    "print(np.all(arr13))"
   ]
  },
  {
   "cell_type": "markdown",
   "metadata": {},
   "source": [
    "## 广播★"
   ]
  },
  {
   "cell_type": "code",
   "execution_count": 22,
   "metadata": {
    "scrolled": true,
    "tags": []
   },
   "outputs": [
    {
     "output_type": "stream",
     "name": "stdout",
     "text": "[[ 0  1  2]\n [ 3  4  5]\n [ 6  7  8]\n [ 9 10 11]\n [12 13 14]]\n[[ 1  3  5]\n [ 4  6  8]\n [ 7  9 11]\n [10 12 14]\n [13 15 17]]\n[[ 1  3  5]\n [ 4  6  8]\n [ 7  9 11]\n [10 12 14]\n [13 15 17]]\n"
    }
   ],
   "source": [
    "arr15 = np.arange(15).reshape((5, 3))\n",
    "print(arr15)\n",
    "\n",
    "arr16 = np.array([1, 2, 3])\n",
    "print(arr15 + arr16)\n",
    "\n",
    "arr17 = np.array([1, 2, 3])\n",
    "print(arr15 + arr17)"
   ]
  },
  {
   "cell_type": "markdown",
   "metadata": {},
   "source": [
    "## 排序"
   ]
  },
  {
   "cell_type": "code",
   "execution_count": 23,
   "metadata": {
    "scrolled": false,
    "tags": []
   },
   "outputs": [
    {
     "output_type": "stream",
     "name": "stdout",
     "text": "[2, 3, 4]\n[4 3 2]\n[2 1 0]\n"
    }
   ],
   "source": [
    "\n",
    "arr21 = np.array([4, 3, 2])\n",
    "\n",
    "print(sorted(arr21))  # 返回临时排序的列表\n",
    "print(arr21)  # 原数组\n",
    "\n",
    "print(arr21.argsort())  # 排序后的初始下标"
   ]
  },
  {
   "cell_type": "code",
   "execution_count": 24,
   "metadata": {
    "tags": []
   },
   "outputs": [
    {
     "output_type": "stream",
     "name": "stdout",
     "text": "[2 3 4]\n"
    }
   ],
   "source": [
    "arr21.sort()  # 不返回值，只进行排序操作\n",
    "print(arr21)  # 排序后数组"
   ]
  },
  {
   "cell_type": "markdown",
   "metadata": {},
   "source": [
    "## np.multiply（）、np.dot（）和星号（*）三种乘法运算的区别★"
   ]
  },
  {
   "cell_type": "code",
   "execution_count": 25,
   "metadata": {},
   "outputs": [
    {
     "output_type": "execute_result",
     "data": {
      "text/plain": "array([[ 5, 12],\n       [21, 32]])"
     },
     "metadata": {},
     "execution_count": 25
    }
   ],
   "source": [
    "# np.multiply()函数\n",
    "# 对应位置相乘，输出与相乘数组/矩阵的大小一致\n",
    "arr_1 = np.array([[1, 2],\n",
    "                  [3, 4]])\n",
    "arr_2 = np.array([[5, 6],\n",
    "                  [7, 8]])\n",
    "\n",
    "np.multiply(arr_1, arr_2)"
   ]
  },
  {
   "cell_type": "code",
   "execution_count": 26,
   "metadata": {},
   "outputs": [
    {
     "output_type": "execute_result",
     "data": {
      "text/plain": "4"
     },
     "metadata": {},
     "execution_count": 26
    }
   ],
   "source": [
    "# np.dot()函数\n",
    "# 对于秩为1的数组，执行对应位置相乘，然后再相加，可以理解为向量点积\n",
    "arr_3 = np.array([0, 1, 2])\n",
    "arr_4 = np.array([3, 2, 1])\n",
    "\n",
    "np.dot(arr_3, arr_4)"
   ]
  },
  {
   "cell_type": "code",
   "execution_count": 27,
   "metadata": {
    "scrolled": true
   },
   "outputs": [
    {
     "output_type": "execute_result",
     "data": {
      "text/plain": "array([[19, 22],\n       [43, 50]])"
     },
     "metadata": {},
     "execution_count": 27
    }
   ],
   "source": [
    "# np.dot()函数\n",
    "# 对于秩不为1的二维数组，执行矩阵乘法运算\n",
    "arr_1 = np.array([[1, 2],\n",
    "                  [3, 4]])\n",
    "arr_2 = np.array([[5, 6],\n",
    "                  [7, 8]])\n",
    "\n",
    "np.dot(arr_1, arr_2)"
   ]
  },
  {
   "cell_type": "code",
   "execution_count": 28,
   "metadata": {},
   "outputs": [
    {
     "output_type": "execute_result",
     "data": {
      "text/plain": "array([[ 5, 12],\n       [21, 32]])"
     },
     "metadata": {},
     "execution_count": 28
    }
   ],
   "source": [
    "# 星号（*）\n",
    "# 对数组执行对应位置相乘\n",
    "arr_1 * arr_2"
   ]
  },
  {
   "cell_type": "markdown",
   "metadata": {},
   "source": [
    "## 几个重要的函数"
   ]
  },
  {
   "cell_type": "code",
   "execution_count": 29,
   "metadata": {
    "scrolled": true,
    "tags": []
   },
   "outputs": [
    {
     "output_type": "stream",
     "name": "stdout",
     "text": "[1 2 3 4]\n"
    }
   ],
   "source": [
    "# 几个重要函数\n",
    "arr22 = np.array([3, 4, 2, 1, 1, 3, 2, 4])\n",
    "\n",
    "print(np.unique(arr22))"
   ]
  },
  {
   "cell_type": "code",
   "execution_count": 30,
   "metadata": {
    "scrolled": true,
    "tags": []
   },
   "outputs": [
    {
     "output_type": "stream",
     "name": "stdout",
     "text": "[2 3 4 2 3 4 2 3 4 2 3 4 2 3 4]\n"
    }
   ],
   "source": [
    "print(np.tile(arr21, 5))"
   ]
  },
  {
   "cell_type": "code",
   "execution_count": 31,
   "metadata": {
    "scrolled": false,
    "tags": []
   },
   "outputs": [
    {
     "output_type": "stream",
     "name": "stdout",
     "text": "[2 2 2 3 3 4]\n"
    }
   ],
   "source": [
    "print(np.repeat(arr21, [3, 2, 1]))"
   ]
  },
  {
   "cell_type": "code",
   "execution_count": 32,
   "metadata": {
    "tags": []
   },
   "outputs": [
    {
     "output_type": "stream",
     "name": "stdout",
     "text": "[[0 1 2]\n [3 4 5]]\n[[0 0 1 1 2 2]\n [3 3 4 4 5 5]]\n[[0 1 2]\n [0 1 2]\n [3 4 5]\n [3 4 5]]\n[[0 1 2 0 1 2]\n [3 4 5 3 4 5]]\n[[0 1 2 0 1 2]\n [3 4 5 3 4 5]]\n"
    }
   ],
   "source": [
    "arr23 = np.arange(6).reshape((2, 3))\n",
    "print(arr23)\n",
    "print(np.repeat(arr23, 2, axis=1))\n",
    "print(np.repeat(arr23, 2, axis=0))\n",
    "\n",
    "print(np.tile(arr23, 2))\n",
    "print(np.tile(arr23, 2))"
   ]
  },
  {
   "cell_type": "code",
   "execution_count": 33,
   "metadata": {
    "tags": []
   },
   "outputs": [
    {
     "output_type": "stream",
     "name": "stdout",
     "text": "[3 5 7]\n2.5\n1.707825127659933\n2.9166666666666665\n[1 1 1]\n[0 0]\n[ 0  1  3  6 10 15]\n"
    }
   ],
   "source": [
    "print(arr23.sum(axis=0))\n",
    "print(arr23.mean())\n",
    "print(arr23.std())\n",
    "print(arr23.var())\n",
    "print(arr23.argmax(axis=0))\n",
    "print(arr23.argmin(axis=1))\n",
    "print(arr23.cumsum())"
   ]
  },
  {
   "cell_type": "code",
   "execution_count": null,
   "metadata": {},
   "outputs": [],
   "source": []
  }
 ],
 "metadata": {
  "kernelspec": {
   "display_name": "Python 3",
   "language": "python",
   "name": "python3"
  },
  "language_info": {
   "codemirror_mode": {
    "name": "ipython",
    "version": 3
   },
   "file_extension": ".py",
   "mimetype": "text/x-python",
   "name": "python",
   "nbconvert_exporter": "python",
   "pygments_lexer": "ipython3",
   "version": "3.7.5-final"
  },
  "toc": {
   "base_numbering": 1,
   "nav_menu": {},
   "number_sections": true,
   "sideBar": true,
   "skip_h1_title": true,
   "title_cell": "Table of Contents",
   "title_sidebar": "Contents",
   "toc_cell": true,
   "toc_position": {},
   "toc_section_display": true,
   "toc_window_display": false
  }
 },
 "nbformat": 4,
 "nbformat_minor": 2
}