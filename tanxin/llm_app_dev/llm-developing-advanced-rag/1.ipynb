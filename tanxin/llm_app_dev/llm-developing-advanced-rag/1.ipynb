{
 "cells": [
  {
   "cell_type": "markdown",
   "id": "28de12eb-91f9-4839-8e6c-6b31b7785682",
   "metadata": {},
   "source": [
    "1.ipynb：一份PDF文档，有三个（问题，答案）对 - 简单RAG - Ragas评估"
   ]
  },
  {
   "cell_type": "markdown",
   "id": "a8b6cef4-823f-4922-a00a-c2c7d4307434",
   "metadata": {},
   "source": [
    "# 加载环境变量"
   ]
  },
  {
   "cell_type": "code",
   "execution_count": 2,
   "id": "dc242372-4e21-4d97-aec3-1cebaad3eaee",
   "metadata": {},
   "outputs": [
    {
     "data": {
      "text/plain": [
       "True"
      ]
     },
     "execution_count": 2,
     "metadata": {},
     "output_type": "execute_result"
    }
   ],
   "source": [
    "import os\n",
    "from dotenv import find_dotenv, load_dotenv\n",
    "\n",
    "# 加载环境变量\n",
    "load_dotenv(find_dotenv())"
   ]
  },
  {
   "cell_type": "markdown",
   "id": "bd1a68f4-946c-4947-ba6e-36ec5b3c21f3",
   "metadata": {},
   "source": [
    "# 源数据\n",
    "\n",
    "[2023全球智能汽车AI挑战赛——赛道一：AI大模型检索问答](https://tianchi.aliyun.com/competition/entrance/532154/forum)"
   ]
  },
  {
   "cell_type": "markdown",
   "id": "47e6317d-c0e4-48f0-9a3c-15a4ce349be5",
   "metadata": {},
   "source": [
    "# 构建RAG"
   ]
  },
  {
   "cell_type": "code",
   "execution_count": 3,
   "id": "fb34bed9-df85-4071-a149-d8d853269afd",
   "metadata": {},
   "outputs": [],
   "source": [
    "def pretty_print_docs(docs):\n",
    "  print(\n",
    "      f\"\\n{'-' * 100}\\n\".join([f\"Document {i+1}:\\n\\n + {d.page_content}\\n{d.metadata}\" for i,d in enumerate(docs)])\n",
    "  )"
   ]
  },
  {
   "cell_type": "code",
   "execution_count": 4,
   "id": "46d8a1f3-fdde-44d0-b266-a12b56dccd51",
   "metadata": {},
   "outputs": [
    {
     "name": "stdout",
     "output_type": "stream",
     "text": [
      "354\n"
     ]
    }
   ],
   "source": [
    "from langchain_community.document_loaders import PyPDFLoader\n",
    "\n",
    "# 加载文档\n",
    "file_path = \"data/初赛训练数据集.pdf\"\n",
    "loader = PyPDFLoader(file_path)\n",
    "docs = loader.load()\n",
    "print(len(docs))"
   ]
  },
  {
   "cell_type": "code",
   "execution_count": 5,
   "id": "25c5766a-f774-45b2-bb54-e0822d5cd5e0",
   "metadata": {},
   "outputs": [
    {
     "name": "stdout",
     "output_type": "stream",
     "text": [
      "Document 1:\n",
      "\n",
      " + 欢迎\n",
      "感谢您选择了具有优良安全性、舒适性、动力性和经济性的Lynk&Co领克汽车。\n",
      "首次使用前请仔细、完整地阅读本手册内容，将有助于您更好地了解和使用车辆。\n",
      "本手册中的所有资料均为出版时的最新资料，但本公司将对产品进行不断的改进和优化，您所购的车辆可能与本手册中的描述有所不同，请以实际\n",
      "接收的车辆为准。\n",
      "如您有任何问题，或需要预约服务，请拨打电话4006-010101 联系我们。您也可以开车前往Lynk &Co领克中心。\n",
      "在抵达之前，请您注意驾车安全。©领克汽车销售有限公司\n",
      "{'source': 'data/初赛训练数据集.pdf', 'page': 0}\n",
      "----------------------------------------------------------------------------------------------------\n",
      "Document 2:\n",
      "\n",
      " + \n",
      "{'source': 'data/初赛训练数据集.pdf', 'page': 1}\n",
      "----------------------------------------------------------------------------------------------------\n",
      "Document 3:\n",
      "\n",
      " + 3目录\n",
      "前言\n",
      "本手册相关的重要信息 .................................................11\n",
      "敬告用户.................................................................11\n",
      "联系Lynk&Co领克 .....................................................12\n",
      "事件数据记录系统 ......................................................12\n",
      "远程监控系统............................................................12\n",
      "原厂精装附件、选装装备和改装 ......................................13\n",
      "无线电设备 ..............................................................13\n",
      "所有权变更 ..............................................................13\n",
      "动力电池回收............................................................14\n",
      "车辆报废.................................................................14\n",
      "隐私告知.................................................................14\n",
      "用车前准备\n",
      "远程查询车辆状况 ......................................................17\n",
      "安全检查.................................................................17\n",
      "装载货物\n",
      "车辆装载.................................................................21\n",
      "前排储物空间............................................................22\n",
      "前排储物空间........................................................... 24\n",
      "第二排储物空间 ........................................................ 26\n",
      "后备厢储物空间 .........................................................27\n",
      "折叠后排座椅............................................................27使用手套箱密码保护................................................... 28\n",
      "后备厢载物 ............................................................. 28\n",
      "遮物帘................................................................... 29\n",
      "车内打开/关闭尾门 .................................................... 29\n",
      "车内打开/关闭尾门 .....................................................31\n",
      "车外打开/关闭尾门 .................................................... 32设置尾门开启角度 ..................................................... 34\n",
      "上车和下车\n",
      "车辆锁止/解锁状态 .................................................... 39\n",
      "使用遥控钥匙解锁和闭锁 .............................................40\n",
      "使用Lynk&CoApp解锁和闭锁 ....................................... 42\n",
      "无钥匙进入系统 ........................................................ 42\n",
      "车内解锁和闭锁 ........................................................ 44\n",
      "车内打开/关闭车门 .................................................... 45\n",
      "车外打开/关闭车门 .................................................... 45\n",
      "主驾座椅迎宾........................................................... 45开门预警系统........................................................... 46防盗系统................................................................ 48\n",
      "开启/关闭防盗系统 .................................................... 48\n",
      "驾驶前的准备\n",
      "调节驾驶员座椅 .........................................................51\n",
      "调节驾驶员座椅 ........................................................ 52\n",
      "位置记忆功能........................................................... 53\n",
      "位置记忆功能........................................................... 54\n",
      "方向盘介绍 ............................................................. 55\n",
      "方向盘介绍 ..............................................................57\n",
      "调整方向盘 ............................................................. 59\n",
      "调节外后视镜........................................................... 60\n",
      "调节内后视镜............................................................61\n",
      "内后视镜自动防眩目....................................................61\n",
      "胎压监测系统............................................................61\n",
      "前雨刮和洗涤器 ........................................................ 62\n",
      "后雨刮和洗涤器 ........................................................ 65\n",
      "仪表和灯光\n",
      "{'source': 'data/初赛训练数据集.pdf', 'page': 2}\n"
     ]
    }
   ],
   "source": [
    "pretty_print_docs(docs[:3])"
   ]
  },
  {
   "cell_type": "code",
   "execution_count": null,
   "id": "e2d10199-b3ad-483f-95e9-cbd2332d50bc",
   "metadata": {},
   "outputs": [],
   "source": []
  },
  {
   "cell_type": "code",
   "execution_count": 6,
   "id": "b1e8e341-4fdb-410c-885e-1283a9e21292",
   "metadata": {},
   "outputs": [
    {
     "name": "stdout",
     "output_type": "stream",
     "text": [
      "807\n"
     ]
    }
   ],
   "source": [
    "from langchain.text_splitter import RecursiveCharacterTextSplitter\n",
    "\n",
    "# 分割文档\n",
    "text_splitter = RecursiveCharacterTextSplitter(\n",
    "    chunk_size=256,\n",
    "    chunk_overlap=50,\n",
    ")\n",
    "split_docs = text_splitter.split_documents(docs)\n",
    "print(len(split_docs))"
   ]
  },
  {
   "cell_type": "code",
   "execution_count": 7,
   "id": "7a8bffa3-5072-46e9-97d6-dc99aff0d748",
   "metadata": {},
   "outputs": [
    {
     "name": "stdout",
     "output_type": "stream",
     "text": [
      "Document 1:\n",
      "\n",
      " + 欢迎\n",
      "感谢您选择了具有优良安全性、舒适性、动力性和经济性的Lynk&Co领克汽车。\n",
      "首次使用前请仔细、完整地阅读本手册内容，将有助于您更好地了解和使用车辆。\n",
      "本手册中的所有资料均为出版时的最新资料，但本公司将对产品进行不断的改进和优化，您所购的车辆可能与本手册中的描述有所不同，请以实际\n",
      "接收的车辆为准。\n",
      "如您有任何问题，或需要预约服务，请拨打电话4006-010101 联系我们。您也可以开车前往Lynk &Co领克中心。\n",
      "在抵达之前，请您注意驾车安全。©领克汽车销售有限公司\n",
      "{'source': 'data/初赛训练数据集.pdf', 'page': 0}\n",
      "----------------------------------------------------------------------------------------------------\n",
      "Document 2:\n",
      "\n",
      " + 3目录\n",
      "前言\n",
      "本手册相关的重要信息 .................................................11\n",
      "敬告用户.................................................................11\n",
      "联系Lynk&Co领克 .....................................................12\n",
      "{'source': 'data/初赛训练数据集.pdf', 'page': 2}\n",
      "----------------------------------------------------------------------------------------------------\n",
      "Document 3:\n",
      "\n",
      " + 事件数据记录系统 ......................................................12\n",
      "远程监控系统............................................................12\n",
      "原厂精装附件、选装装备和改装 ......................................13\n",
      "{'source': 'data/初赛训练数据集.pdf', 'page': 2}\n"
     ]
    }
   ],
   "source": [
    "pretty_print_docs(split_docs[:3])"
   ]
  },
  {
   "cell_type": "code",
   "execution_count": null,
   "id": "d2826ffa-e5d6-40ae-b06d-334b6996c2ac",
   "metadata": {},
   "outputs": [],
   "source": []
  },
  {
   "cell_type": "code",
   "execution_count": 8,
   "id": "7b6ca693-9573-4345-84cf-ad24dc8d8b14",
   "metadata": {},
   "outputs": [
    {
     "name": "stderr",
     "output_type": "stream",
     "text": [
      "D:\\Software\\anaconda3\\envs\\py38_AdvancedRAG\\lib\\site-packages\\tqdm\\auto.py:21: TqdmWarning: IProgress not found. Please update jupyter and ipywidgets. See https://ipywidgets.readthedocs.io/en/stable/user_install.html\n",
      "  from .autonotebook import tqdm as notebook_tqdm\n"
     ]
    }
   ],
   "source": [
    "from langchain.embeddings import HuggingFaceBgeEmbeddings\n",
    "\n",
    "# 创建嵌入模型\n",
    "model_name = 'BAAI/bge-large-zh-v1.5'\n",
    "model_kwargs = {'device': 'cuda'}  # 需要安装GPU版本的torch \n",
    "encode_kwargs = {'normalize_embeddings': True}\n",
    "embeddings = HuggingFaceBgeEmbeddings(\n",
    "    model_name=model_name,\n",
    "    model_kwargs=model_kwargs,\n",
    "    encode_kwargs=encode_kwargs,\n",
    ")"
   ]
  },
  {
   "cell_type": "code",
   "execution_count": null,
   "id": "8006a9ef-5d9a-4f00-a9d7-06cc0b4644fd",
   "metadata": {},
   "outputs": [],
   "source": []
  },
  {
   "cell_type": "code",
   "execution_count": 9,
   "id": "d2497559-9d5e-4545-aa5a-af92ea98c7b3",
   "metadata": {},
   "outputs": [],
   "source": [
    "from langchain_community.vectorstores import FAISS\n",
    "\n",
    "# 创建向量存储\n",
    "vectordb = FAISS.from_documents(split_docs, embeddings)"
   ]
  },
  {
   "cell_type": "code",
   "execution_count": 10,
   "id": "3515dcbc-d438-4b7e-82eb-37668f1f3df0",
   "metadata": {},
   "outputs": [],
   "source": [
    "index_folder_path = \"data/faiss_index\"\n",
    "index_name = \"1\""
   ]
  },
  {
   "cell_type": "code",
   "execution_count": 11,
   "id": "073fe2b4-5175-437a-8718-10dc1bf1d5f3",
   "metadata": {},
   "outputs": [],
   "source": [
    "# 保存索引\n",
    "vectordb.save_local(index_folder_path, index_name)"
   ]
  },
  {
   "cell_type": "code",
   "execution_count": 12,
   "id": "e2e9ea1d-5511-40f8-a4fc-2620e8371a4d",
   "metadata": {},
   "outputs": [],
   "source": [
    "# 加载索引\n",
    "vectordb = FAISS.load_local(index_folder_path, embeddings, index_name)"
   ]
  },
  {
   "cell_type": "code",
   "execution_count": null,
   "id": "b9b73ac4-13e7-4b2d-aec1-4202f66d3539",
   "metadata": {},
   "outputs": [],
   "source": []
  },
  {
   "cell_type": "code",
   "execution_count": 13,
   "id": "26cd88fa-74c6-419c-ab1c-a731300509a9",
   "metadata": {},
   "outputs": [],
   "source": [
    "# 创建检索器\n",
    "retriever = vectordb.as_retriever(search_kwargs={\"k\": 5})"
   ]
  },
  {
   "cell_type": "code",
   "execution_count": null,
   "id": "3458079c-890f-428d-9a7f-3e838100aca4",
   "metadata": {},
   "outputs": [],
   "source": []
  },
  {
   "cell_type": "code",
   "execution_count": 14,
   "id": "38d156c0-fc7e-44bf-9108-49bbd3e7f798",
   "metadata": {},
   "outputs": [
    {
     "name": "stdout",
     "output_type": "stream",
     "text": [
      "gpt-3.5-turbo\n"
     ]
    }
   ],
   "source": [
    "from langchain_openai import ChatOpenAI\n",
    "\n",
    "# 创建模型\n",
    "llm = ChatOpenAI(temperature=0)\n",
    "print(llm.model_name)"
   ]
  },
  {
   "cell_type": "code",
   "execution_count": null,
   "id": "16fad345-bd5e-4e35-b81c-9c954ffccc2b",
   "metadata": {},
   "outputs": [],
   "source": []
  },
  {
   "cell_type": "code",
   "execution_count": 15,
   "id": "cc3ac577-5a0f-42a9-b8f7-a8703fbf197b",
   "metadata": {},
   "outputs": [],
   "source": [
    "from langchain.chains import RetrievalQA\n",
    "\n",
    "# 创建链\n",
    "chain = RetrievalQA.from_chain_type(llm=llm,\n",
    "                                 chain_type=\"stuff\",\n",
    "                                 retriever=retriever,\n",
    "                                 return_source_documents=True)"
   ]
  },
  {
   "cell_type": "code",
   "execution_count": null,
   "id": "98c36eed-a008-49cb-a8cd-a4faad35c63c",
   "metadata": {},
   "outputs": [],
   "source": []
  },
  {
   "cell_type": "code",
   "execution_count": 16,
   "id": "c8f5f05d-35d0-4adb-b484-dc33acdfa4b4",
   "metadata": {},
   "outputs": [
    {
     "name": "stdout",
     "output_type": "stream",
     "text": [
      "{'query': '怎么打开危险警告灯？', 'result': '要打开危险警告灯，您需要按下车辆上的危险警告灯按键。当车辆遇到交通事故或其他紧急情况时，按下该按键即可启用危险警告灯。值得注意的是，在发生碰撞情况下，危险警告灯也会自动点亮。', 'source_documents': [Document(page_content='使用危险警告灯 ........................................................ 89', metadata={'source': 'data/初赛训练数据集.pdf', 'page': 3}), Document(page_content='指示灯闪烁。打开危险警告灯开关时，两侧转\\n向指示灯均闪烁。\\n近光灯指示灯：打开近光灯时，该指示灯点亮。\\n远光灯指示灯：打开远光灯时，该指示灯点亮。\\n智能远近光控制开启指示灯：打开智能远近光控制时，该\\n指示灯点亮。\\n后雾灯指示灯：打开后雾灯时，该指示灯点亮。\\n位置灯指示灯：打开位置灯时，该指示灯点亮。\\n泊车紧急制动指示灯：泊车紧急制动激活时，该指示灯点\\n亮。', metadata={'source': 'data/初赛训练数据集.pdf', 'page': 73}), Document(page_content='灯点亮。\\n陡坡缓降系统故障警告灯：陡坡缓降系统出现故障时，该\\n警告灯点亮。\\n安全气囊故障警告灯：安全气囊系统或预紧器系统存在故\\n障时，该警告灯点亮。', metadata={'source': 'data/初赛训练数据集.pdf', 'page': 72}), Document(page_content='仪表和灯光\\n89\\n01点击开启/关闭门控灯。\\n使用超车灯\\n超车时，您可将拨杆朝向自身方向拉动然后松开，此时远光灯闪烁一\\n次，以提醒前方车辆。\\n使用危险警告灯\\n危险警告灯按键\\n车辆遇到交通事故或其他紧急情况时，按下危险警告灯按键，启用危\\n险警告灯。\\n说明！\\n□发生碰撞情况下，危险警告灯也将自动点亮。', metadata={'source': 'data/初赛训练数据集.pdf', 'page': 88}), Document(page_content='灯常亮。盲点监测系统标定未完成时，该警告灯闪烁。\\n低速行人提示音功能故障警告灯：低速行人提示音功能故\\n障时，该警告灯点亮。\\n查看组合仪表信息\\n机舱盖/车门/尾门/安全带提醒界面\\n当机舱盖/车门/尾门未关闭或安全带未系时，仪表显示屏将红色高亮\\n显示未关闭机舱盖/车门/尾门或未系安全带座椅。\\n当车速小于 10km/h时，按下方向盘右侧确认按键。可以隐藏机舱盖/\\n车门/尾门/安全带提醒界面。', metadata={'source': 'data/初赛训练数据集.pdf', 'page': 77})]}\n"
     ]
    }
   ],
   "source": [
    "# 运行链 - 测试\n",
    "question = \"怎么打开危险警告灯？\"\n",
    "response = chain(question)\n",
    "print(response)"
   ]
  },
  {
   "cell_type": "code",
   "execution_count": 17,
   "id": "4f446c7f-02bf-4c30-9a8a-4ba705771b6c",
   "metadata": {},
   "outputs": [
    {
     "data": {
      "text/plain": [
       "'怎么打开危险警告灯？'"
      ]
     },
     "execution_count": 17,
     "metadata": {},
     "output_type": "execute_result"
    }
   ],
   "source": [
    "response['query']"
   ]
  },
  {
   "cell_type": "code",
   "execution_count": 18,
   "id": "9adb2de4-eaf4-413e-ba4e-e5dbaa5a79bf",
   "metadata": {},
   "outputs": [
    {
     "data": {
      "text/plain": [
       "'要打开危险警告灯，您需要按下车辆上的危险警告灯按键。当车辆遇到交通事故或其他紧急情况时，按下该按键即可启用危险警告灯。值得注意的是，在发生碰撞情况下，危险警告灯也会自动点亮。'"
      ]
     },
     "execution_count": 18,
     "metadata": {},
     "output_type": "execute_result"
    }
   ],
   "source": [
    "response['result']"
   ]
  },
  {
   "cell_type": "code",
   "execution_count": 19,
   "id": "d84c4865-f0dd-4705-bc49-028dcba6cee1",
   "metadata": {},
   "outputs": [
    {
     "name": "stdout",
     "output_type": "stream",
     "text": [
      "Document 1:\n",
      "\n",
      " + 使用危险警告灯 ........................................................ 89\n",
      "{'source': 'data/初赛训练数据集.pdf', 'page': 3}\n",
      "----------------------------------------------------------------------------------------------------\n",
      "Document 2:\n",
      "\n",
      " + 指示灯闪烁。打开危险警告灯开关时，两侧转\n",
      "向指示灯均闪烁。\n",
      "近光灯指示灯：打开近光灯时，该指示灯点亮。\n",
      "远光灯指示灯：打开远光灯时，该指示灯点亮。\n",
      "智能远近光控制开启指示灯：打开智能远近光控制时，该\n",
      "指示灯点亮。\n",
      "后雾灯指示灯：打开后雾灯时，该指示灯点亮。\n",
      "位置灯指示灯：打开位置灯时，该指示灯点亮。\n",
      "泊车紧急制动指示灯：泊车紧急制动激活时，该指示灯点\n",
      "亮。\n",
      "{'source': 'data/初赛训练数据集.pdf', 'page': 73}\n",
      "----------------------------------------------------------------------------------------------------\n",
      "Document 3:\n",
      "\n",
      " + 灯点亮。\n",
      "陡坡缓降系统故障警告灯：陡坡缓降系统出现故障时，该\n",
      "警告灯点亮。\n",
      "安全气囊故障警告灯：安全气囊系统或预紧器系统存在故\n",
      "障时，该警告灯点亮。\n",
      "{'source': 'data/初赛训练数据集.pdf', 'page': 72}\n",
      "----------------------------------------------------------------------------------------------------\n",
      "Document 4:\n",
      "\n",
      " + 仪表和灯光\n",
      "89\n",
      "01点击开启/关闭门控灯。\n",
      "使用超车灯\n",
      "超车时，您可将拨杆朝向自身方向拉动然后松开，此时远光灯闪烁一\n",
      "次，以提醒前方车辆。\n",
      "使用危险警告灯\n",
      "危险警告灯按键\n",
      "车辆遇到交通事故或其他紧急情况时，按下危险警告灯按键，启用危\n",
      "险警告灯。\n",
      "说明！\n",
      "□发生碰撞情况下，危险警告灯也将自动点亮。\n",
      "{'source': 'data/初赛训练数据集.pdf', 'page': 88}\n",
      "----------------------------------------------------------------------------------------------------\n",
      "Document 5:\n",
      "\n",
      " + 灯常亮。盲点监测系统标定未完成时，该警告灯闪烁。\n",
      "低速行人提示音功能故障警告灯：低速行人提示音功能故\n",
      "障时，该警告灯点亮。\n",
      "查看组合仪表信息\n",
      "机舱盖/车门/尾门/安全带提醒界面\n",
      "当机舱盖/车门/尾门未关闭或安全带未系时，仪表显示屏将红色高亮\n",
      "显示未关闭机舱盖/车门/尾门或未系安全带座椅。\n",
      "当车速小于 10km/h时，按下方向盘右侧确认按键。可以隐藏机舱盖/\n",
      "车门/尾门/安全带提醒界面。\n",
      "{'source': 'data/初赛训练数据集.pdf', 'page': 77}\n"
     ]
    }
   ],
   "source": [
    "pretty_print_docs(response['source_documents'])"
   ]
  },
  {
   "cell_type": "markdown",
   "id": "6056278b-937c-4848-83e2-30c1c4679d50",
   "metadata": {},
   "source": [
    "# 评估RAG\n",
    "\n",
    "[使用您的测试集进行评估](https://docs.ragas.io/en/stable/getstarted/evaluation.html)\n",
    "\n",
    "数据集包含以下列：\n",
    "\n",
    "- question: list[str] - 这些是将评估您的 RAG 管道的问题。\n",
    "- answer: list[str] - 您的 RAG 管道生成的答案。\n",
    "- context: list[list[str]] - 传递到 LLM 来回答问题的上下文。\n",
    "- ground_truth: list[str] - 问题的真实答案。\n"
   ]
  },
  {
   "cell_type": "code",
   "execution_count": 20,
   "id": "2d22e7ee-4387-42ac-8545-7e0e88ea3b3b",
   "metadata": {},
   "outputs": [],
   "source": [
    "questions = [\"怎么打开危险警告灯？\",\n",
    "            \"车辆如何保养？\",\n",
    "            \"靠背太热怎么办？\"]\n",
    "\n",
    "ground_truths = [\"危险警告灯开关在方向盘下方，按下开关即可打开危险警告灯。\",\n",
    "            \"为了保持车辆处于最佳状态，建议您定期关注车辆状态，包括定期保养、洗车、内部清洁、外部清洁、轮胎的保养、低压蓄电池的保养等。\",\n",
    "            \"您好，如果您的座椅靠背太热，可以尝试关闭座椅加热功能。在多媒体显示屏上依次点击空调开启按键→座椅→加热，在该界面下可以关闭座椅加热。\"]"
   ]
  },
  {
   "cell_type": "code",
   "execution_count": 21,
   "id": "53fd2866-4e53-403d-ac8b-b1d74daaeb94",
   "metadata": {},
   "outputs": [
    {
     "name": "stdout",
     "output_type": "stream",
     "text": [
      "怎么打开危险警告灯？\n",
      "要打开危险警告灯，您需要按下车辆上的危险警告灯按键。当车辆遇到交通事故或其他紧急情况时，按下该按键即可启用危险警告灯。另外，如果发生碰撞情况，危险警告灯也会自动点亮。 \n",
      "\n",
      "车辆如何保养？\n",
      "根据提供的信息，以下是一些关于车辆保养的建议：\n",
      "1. 清洁外部：在清洗车辆外部前，请关闭所有车窗和天窗。避免使用含酸清洁剂，强碱性肥皂、强化学性清洗剂、汽油或溶剂清洗车辆。冬季道路撒盐的地区应定期清洁车底，清洗完车辆后擦拭干净车辆表面。\n",
      "2. 存放车辆：车辆应存放在阴凉通风、清洁干燥的环境下，避免长期停放在封闭潮湿环境中。\n",
      "3. 更换遥控钥匙电池：如果遥控钥匙电池电量耗尽，应及时更换新电池。\n",
      "4. 清洁显示器/屏幕：经常用超细纤维布清洁显示器，避免液体和水汽接触。\n",
      "5. 保养项目：根据时间和里程确定保养周期，包括更换发动机机油和机油滤芯、空气滤芯、火花塞等。\n",
      "6. 保养轮胎：定期检查轮胎是否损坏，避免接触润滑脂、润滑油和燃油。\n",
      "\n",
      "这些是一些基本的车辆保养建议，具体的保养项目和周期可能会根据车辆型号和使用情况而有所不同。 \n",
      "\n",
      "靠背太热怎么办？\n",
      "如果座椅靠背太热，您可以尝试关闭座椅加热功能。根据提供的信息，您可以使用车辆的中央显示屏或Lynk&CoApp来控制前排座椅加热功能的开关。通过关闭加热功能，座椅靠背的温度应该会逐渐降低到更舒适的水平。 \n",
      "\n"
     ]
    }
   ],
   "source": [
    "# 生成 answers 和 contexts\n",
    "answers = []\n",
    "contexts = []\n",
    "\n",
    "for question in questions:\n",
    "    print(question)\n",
    "    response = chain(question)\n",
    "    print(response['result'], \"\\n\")\n",
    "    answers.append(response['result'])\n",
    "    contexts.append([doc.page_content for doc in response['source_documents']])"
   ]
  },
  {
   "cell_type": "code",
   "execution_count": 23,
   "id": "2d9966a4-8755-4b41-8eee-23a5deb5073a",
   "metadata": {},
   "outputs": [
    {
     "data": {
      "text/plain": [
       "Dataset({\n",
       "    features: ['question', 'answer', 'contexts', 'ground_truth'],\n",
       "    num_rows: 3\n",
       "})"
      ]
     },
     "execution_count": 23,
     "metadata": {},
     "output_type": "execute_result"
    }
   ],
   "source": [
    "# 构建评估数据集\n",
    "from datasets import Dataset\n",
    "\n",
    "evaluate_data = {\n",
    "    \"question\": questions,\n",
    "    \"answer\": answers,\n",
    "    \"contexts\": contexts,\n",
    "    \"ground_truth\": ground_truths\n",
    "}\n",
    "\n",
    "evaluate_dataset = Dataset.from_dict(evaluate_data)\n",
    "evaluate_dataset"
   ]
  },
  {
   "cell_type": "code",
   "execution_count": 24,
   "id": "e2ae9198-b83c-4e3f-b152-9a5c30309343",
   "metadata": {},
   "outputs": [
    {
     "data": {
      "text/plain": [
       "{'question': '怎么打开危险警告灯？',\n",
       " 'answer': '要打开危险警告灯，您需要按下车辆上的危险警告灯按键。当车辆遇到交通事故或其他紧急情况时，按下该按键即可启用危险警告灯。另外，如果发生碰撞情况，危险警告灯也会自动点亮。',\n",
       " 'contexts': ['使用危险警告灯 ........................................................ 89',\n",
       "  '指示灯闪烁。打开危险警告灯开关时，两侧转\\n向指示灯均闪烁。\\n近光灯指示灯：打开近光灯时，该指示灯点亮。\\n远光灯指示灯：打开远光灯时，该指示灯点亮。\\n智能远近光控制开启指示灯：打开智能远近光控制时，该\\n指示灯点亮。\\n后雾灯指示灯：打开后雾灯时，该指示灯点亮。\\n位置灯指示灯：打开位置灯时，该指示灯点亮。\\n泊车紧急制动指示灯：泊车紧急制动激活时，该指示灯点\\n亮。',\n",
       "  '灯点亮。\\n陡坡缓降系统故障警告灯：陡坡缓降系统出现故障时，该\\n警告灯点亮。\\n安全气囊故障警告灯：安全气囊系统或预紧器系统存在故\\n障时，该警告灯点亮。',\n",
       "  '仪表和灯光\\n89\\n01点击开启/关闭门控灯。\\n使用超车灯\\n超车时，您可将拨杆朝向自身方向拉动然后松开，此时远光灯闪烁一\\n次，以提醒前方车辆。\\n使用危险警告灯\\n危险警告灯按键\\n车辆遇到交通事故或其他紧急情况时，按下危险警告灯按键，启用危\\n险警告灯。\\n说明！\\n□发生碰撞情况下，危险警告灯也将自动点亮。',\n",
       "  '灯常亮。盲点监测系统标定未完成时，该警告灯闪烁。\\n低速行人提示音功能故障警告灯：低速行人提示音功能故\\n障时，该警告灯点亮。\\n查看组合仪表信息\\n机舱盖/车门/尾门/安全带提醒界面\\n当机舱盖/车门/尾门未关闭或安全带未系时，仪表显示屏将红色高亮\\n显示未关闭机舱盖/车门/尾门或未系安全带座椅。\\n当车速小于 10km/h时，按下方向盘右侧确认按键。可以隐藏机舱盖/\\n车门/尾门/安全带提醒界面。'],\n",
       " 'ground_truth': '危险警告灯开关在方向盘下方，按下开关即可打开危险警告灯。'}"
      ]
     },
     "execution_count": 24,
     "metadata": {},
     "output_type": "execute_result"
    }
   ],
   "source": [
    "evaluate_dataset[0]"
   ]
  },
  {
   "cell_type": "code",
   "execution_count": null,
   "id": "947771a8-7e02-45a8-a00a-e88ab763f825",
   "metadata": {},
   "outputs": [],
   "source": []
  },
  {
   "cell_type": "markdown",
   "id": "ef0586d0-1c3b-44d1-801b-f47915bc3247",
   "metadata": {},
   "source": [
    "\n",
    "[评估指标](https://docs.ragas.io/en/stable/concepts/metrics/index.html)\n",
    "- Faithfulness\n",
    "  - 如果答案中提出的所有主张都可以从给定的上下文中推断出来，则生成的答案被认为是忠实的。\n",
    "  - answer 和 contexts\n",
    "- Answer Relevancy\n",
    "  - 评估指标“答案相关性”重点评估生成的答案与给定提示的相关程度。不完整或包含冗余信息的答案将获得较低分数。\n",
    "  - answer 和 question\n",
    "- Context Precision\n",
    "  - 用于评估 contexts 中存在的所有真实相关项目是否排名较高。理想情况下，所有相关块必须出现在顶层。\n",
    "  - question 和 contexts\n",
    "- Context Recall\n",
    "  - 上下文回忆衡量检索到的上下文与带注释的答案（被视为基本事实）的一致程度。\n",
    "  - ground truth 和 contexts\n",
    "---\n",
    "\n",
    "- RAGAS评估框架评估了RAG管道的两个主要组件：\n",
    "    - Retriever 检索器\n",
    "    - Generator 生成器\n",
    "\n",
    "---\n",
    "\n",
    "- 与评估 Retrieval 相关的指标如下：\n",
    "    - Context Precision。question 和 contexts\n",
    "    - Context Recall。ground truth 和 contexts\n",
    "- 与评估 Generation 相关的指标如下：\n",
    "  - Faithfulness。answer 和 contexts\n",
    "  - Answer Relevancy。answer 和 question"
   ]
  },
  {
   "cell_type": "code",
   "execution_count": 25,
   "id": "f763a578-d8f6-423c-b1de-d80b86666426",
   "metadata": {},
   "outputs": [
    {
     "name": "stderr",
     "output_type": "stream",
     "text": [
      "Evaluating: 100%|████████████████████████████████████████████████████████████████████████████████████████████████████████████████████████████████████████| 12/12 [00:26<00:00,  2.17s/it]\n"
     ]
    },
    {
     "data": {
      "text/plain": [
       "{'faithfulness': 0.6000, 'answer_relevancy': 0.6278, 'context_recall': 1.0000, 'context_precision': 0.3167}"
      ]
     },
     "execution_count": 25,
     "metadata": {},
     "output_type": "execute_result"
    }
   ],
   "source": [
    "# 导入指标\n",
    "from ragas.metrics import (\n",
    "    faithfulness,\n",
    "    answer_relevancy,\n",
    "    context_recall,\n",
    "    context_precision,\n",
    ")\n",
    "\n",
    "\n",
    "# 开始评估\n",
    "from ragas import evaluate\n",
    "\n",
    "evaluate_result = evaluate(\n",
    "    evaluate_dataset, \n",
    "    metrics=[\n",
    "        faithfulness,\n",
    "        answer_relevancy,\n",
    "        context_recall,\n",
    "        context_precision,\n",
    "    ]\n",
    ")\n",
    "evaluate_result"
   ]
  },
  {
   "cell_type": "code",
   "execution_count": 26,
   "id": "d1b65d45-f71f-4250-adc5-3b6486986b9b",
   "metadata": {},
   "outputs": [
    {
     "data": {
      "text/html": [
       "<div>\n",
       "<style scoped>\n",
       "    .dataframe tbody tr th:only-of-type {\n",
       "        vertical-align: middle;\n",
       "    }\n",
       "\n",
       "    .dataframe tbody tr th {\n",
       "        vertical-align: top;\n",
       "    }\n",
       "\n",
       "    .dataframe thead th {\n",
       "        text-align: right;\n",
       "    }\n",
       "</style>\n",
       "<table border=\"1\" class=\"dataframe\">\n",
       "  <thead>\n",
       "    <tr style=\"text-align: right;\">\n",
       "      <th></th>\n",
       "      <th>question</th>\n",
       "      <th>answer</th>\n",
       "      <th>contexts</th>\n",
       "      <th>ground_truth</th>\n",
       "      <th>faithfulness</th>\n",
       "      <th>answer_relevancy</th>\n",
       "      <th>context_recall</th>\n",
       "      <th>context_precision</th>\n",
       "    </tr>\n",
       "  </thead>\n",
       "  <tbody>\n",
       "    <tr>\n",
       "      <th>0</th>\n",
       "      <td>怎么打开危险警告灯？</td>\n",
       "      <td>要打开危险警告灯，您需要按下车辆上的危险警告灯按键。当车辆遇到交通事故或其他紧急情况时，按下...</td>\n",
       "      <td>[使用危险警告灯 ........................................</td>\n",
       "      <td>危险警告灯开关在方向盘下方，按下开关即可打开危险警告灯。</td>\n",
       "      <td>1.0</td>\n",
       "      <td>0.991388</td>\n",
       "      <td>1.0</td>\n",
       "      <td>0.25</td>\n",
       "    </tr>\n",
       "    <tr>\n",
       "      <th>1</th>\n",
       "      <td>车辆如何保养？</td>\n",
       "      <td>根据提供的信息，以下是一些关于车辆保养的建议：\\n1. 清洁外部：在清洗车辆外部前，请关闭所...</td>\n",
       "      <td>[保养和维护\\n317\\n注意！\\n■在清洗车辆外部前，请记得关闭所有车窗和天窗。\\n■请勿...</td>\n",
       "      <td>为了保持车辆处于最佳状态，建议您定期关注车辆状态，包括定期保养、洗车、内部清洁、外部清洁、轮...</td>\n",
       "      <td>0.8</td>\n",
       "      <td>0.892005</td>\n",
       "      <td>1.0</td>\n",
       "      <td>0.70</td>\n",
       "    </tr>\n",
       "    <tr>\n",
       "      <th>2</th>\n",
       "      <td>靠背太热怎么办？</td>\n",
       "      <td>如果座椅靠背太热，您可以尝试关闭座椅加热功能。根据提供的信息，您可以使用车辆的中央显示屏或L...</td>\n",
       "      <td>[■展开：以相反方向推动座椅靠背直到完全展开。\\n警告！\\n■严禁让乘客乘坐在后备厢中。\\n...</td>\n",
       "      <td>您好，如果您的座椅靠背太热，可以尝试关闭座椅加热功能。在多媒体显示屏上依次点击空调开启按键→...</td>\n",
       "      <td>0.0</td>\n",
       "      <td>0.000000</td>\n",
       "      <td>1.0</td>\n",
       "      <td>0.00</td>\n",
       "    </tr>\n",
       "  </tbody>\n",
       "</table>\n",
       "</div>"
      ],
      "text/plain": [
       "     question                                             answer  \\\n",
       "0  怎么打开危险警告灯？  要打开危险警告灯，您需要按下车辆上的危险警告灯按键。当车辆遇到交通事故或其他紧急情况时，按下...   \n",
       "1     车辆如何保养？  根据提供的信息，以下是一些关于车辆保养的建议：\\n1. 清洁外部：在清洗车辆外部前，请关闭所...   \n",
       "2    靠背太热怎么办？  如果座椅靠背太热，您可以尝试关闭座椅加热功能。根据提供的信息，您可以使用车辆的中央显示屏或L...   \n",
       "\n",
       "                                            contexts  \\\n",
       "0  [使用危险警告灯 ........................................   \n",
       "1  [保养和维护\\n317\\n注意！\\n■在清洗车辆外部前，请记得关闭所有车窗和天窗。\\n■请勿...   \n",
       "2  [■展开：以相反方向推动座椅靠背直到完全展开。\\n警告！\\n■严禁让乘客乘坐在后备厢中。\\n...   \n",
       "\n",
       "                                        ground_truth  faithfulness  \\\n",
       "0                       危险警告灯开关在方向盘下方，按下开关即可打开危险警告灯。           1.0   \n",
       "1  为了保持车辆处于最佳状态，建议您定期关注车辆状态，包括定期保养、洗车、内部清洁、外部清洁、轮...           0.8   \n",
       "2  您好，如果您的座椅靠背太热，可以尝试关闭座椅加热功能。在多媒体显示屏上依次点击空调开启按键→...           0.0   \n",
       "\n",
       "   answer_relevancy  context_recall  context_precision  \n",
       "0          0.991388             1.0               0.25  \n",
       "1          0.892005             1.0               0.70  \n",
       "2          0.000000             1.0               0.00  "
      ]
     },
     "execution_count": 26,
     "metadata": {},
     "output_type": "execute_result"
    }
   ],
   "source": [
    "df_evaluate_result = evaluate_result.to_pandas()\n",
    "df_evaluate_result"
   ]
  },
  {
   "cell_type": "code",
   "execution_count": 27,
   "id": "18bc5be6-1cf4-494e-82ab-294e60ce2b6c",
   "metadata": {},
   "outputs": [],
   "source": [
    "df_evaluate_result.to_excel(f'data/{index_name}_eval_result.xlsx', index=False)"
   ]
  },
  {
   "cell_type": "code",
   "execution_count": null,
   "id": "faaaccbc-408e-444e-a67a-031011779bab",
   "metadata": {},
   "outputs": [],
   "source": []
  }
 ],
 "metadata": {
  "kernelspec": {
   "display_name": "Python 3 (ipykernel)",
   "language": "python",
   "name": "python3"
  },
  "language_info": {
   "codemirror_mode": {
    "name": "ipython",
    "version": 3
   },
   "file_extension": ".py",
   "mimetype": "text/x-python",
   "name": "python",
   "nbconvert_exporter": "python",
   "pygments_lexer": "ipython3",
   "version": "3.8.18"
  }
 },
 "nbformat": 4,
 "nbformat_minor": 5
}
